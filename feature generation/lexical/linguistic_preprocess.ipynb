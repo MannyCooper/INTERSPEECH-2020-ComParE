{
 "cells": [
  {
   "cell_type": "code",
   "execution_count": 1,
   "metadata": {},
   "outputs": [],
   "source": [
    "import pandas as pd\n",
    "import spacy\n",
    "from somajo import SoMaJo\n",
    "from nltk.corpus import stopwords\n",
    "import nltk\n",
    "import os"
   ]
  },
  {
   "cell_type": "code",
   "execution_count": 2,
   "metadata": {},
   "outputs": [
    {
     "name": "stderr",
     "output_type": "stream",
     "text": [
      "[nltk_data] Downloading package stopwords to\n",
      "[nltk_data]     C:\\Users\\anzifan\\AppData\\Roaming\\nltk_data...\n",
      "[nltk_data]   Unzipping corpora\\stopwords.zip.\n"
     ]
    }
   ],
   "source": [
    "set_list = [\"train\", \"devel\", \"test\"]\n",
    "# nltk.download('stopwords')\n",
    "df_all = pd.read_csv(\"USOMS-e_linguistic_feature_extractor/data/transcripted_text.st1_st2_st3.all.csv\")\n",
    "\n",
    "# hand_transcription_train = df_train['hand_transcription'].values\n",
    "# hand_transcription_devel = df_devel['hand_transcription'].values\n",
    "# hand_transcription_test = df_test['hand_transcription'].values\n",
    "for sets in set_list:\n",
    "    locals()['df_{}'.format(sets)] = df_all[df_all['partition'].isin([sets])]\n",
    "    locals()['hand_transcription_{}'.format(sets)] = locals()['df_{}'.format(sets)]['hand_transcription'].values"
   ]
  },
  {
   "cell_type": "code",
   "execution_count": 3,
   "metadata": {},
   "outputs": [],
   "source": [
    "def nltk_process(list_input):\n",
    "    # NLTK\n",
    "    # Tokenize\n",
    "    nlp = spacy.load('de')\n",
    "    tokenizer = SoMaJo(\"de_CMC\", split_sentences=False)\n",
    "    sentences = tokenizer.tokenize_text(list_input)\n",
    "    list_sentence = []\n",
    "    for sentence in sentences:\n",
    "        list_token = []\n",
    "        for token in sentence:\n",
    "            if token.token_class == \"regular\":\n",
    "                doc = nlp(token.text.lower())\n",
    "                for token in doc:\n",
    "                    # Lemma\n",
    "                    lem = token.lemma_\n",
    "                    # Stopwords\n",
    "                    if lem not in stopwords.words('German'):\n",
    "                        list_token.append(lem)\n",
    "\n",
    "        # [[sentense I],[sentense II]]\n",
    "        list_sentence.append(list_token)\n",
    "    return list_sentence\n"
   ]
  },
  {
   "cell_type": "code",
   "execution_count": 4,
   "metadata": {},
   "outputs": [],
   "source": [
    "file_path_list = os.listdir('preprocessed')\n",
    "for sets in set_list:\n",
    "    if sets+'_preprossed.csv' not in file_path_list:\n",
    "        pd.DataFrame(nltk_process(locals()['hand_transcription_{}'.format(sets)])).to_csv('preprocessed/'+sets+'_preprossed.csv', index=None)\n",
    "    else:\n",
    "        locals()['preprocessed_{}'.format(sets)]= pd.read_csv('preprocessed/'+sets+'_preprossed.csv')"
   ]
  },
  {
   "cell_type": "code",
   "execution_count": 5,
   "metadata": {},
   "outputs": [
    {
     "ename": "NameError",
     "evalue": "name 'preprocessed_train' is not defined",
     "output_type": "error",
     "traceback": [
      "\u001b[1;31m---------------------------------------------------------------------------\u001b[0m",
      "\u001b[1;31mNameError\u001b[0m                                 Traceback (most recent call last)",
      "\u001b[1;32m<ipython-input-5-50d2fa154db0>\u001b[0m in \u001b[0;36m<module>\u001b[1;34m\u001b[0m\n\u001b[1;32m----> 1\u001b[1;33m \u001b[0mpreprocessed_train\u001b[0m\u001b[1;33m\u001b[0m\u001b[1;33m\u001b[0m\u001b[0m\n\u001b[0m",
      "\u001b[1;31mNameError\u001b[0m: name 'preprocessed_train' is not defined"
     ]
    }
   ],
   "source": [
    "preprocessed_train"
   ]
  },
  {
   "cell_type": "code",
   "execution_count": null,
   "metadata": {},
   "outputs": [],
   "source": [
    "preprocessed_devel"
   ]
  },
  {
   "cell_type": "code",
   "execution_count": null,
   "metadata": {},
   "outputs": [],
   "source": [
    "preprocessed_test"
   ]
  }
 ],
 "metadata": {
  "kernelspec": {
   "display_name": "Python 3",
   "language": "python",
   "name": "python3"
  },
  "language_info": {
   "codemirror_mode": {
    "name": "ipython",
    "version": 3
   },
   "file_extension": ".py",
   "mimetype": "text/x-python",
   "name": "python",
   "nbconvert_exporter": "python",
   "pygments_lexer": "ipython3",
   "version": "3.8.3"
  }
 },
 "nbformat": 4,
 "nbformat_minor": 4
}
