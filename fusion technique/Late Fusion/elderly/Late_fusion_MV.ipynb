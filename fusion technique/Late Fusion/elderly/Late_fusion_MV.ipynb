{
 "cells": [
  {
   "cell_type": "code",
   "execution_count": 1,
   "metadata": {},
   "outputs": [],
   "source": [
    "import pandas as pd\n",
    "import os\n",
    "from collections import Counter\n",
    "from sklearn.preprocessing import MinMaxScaler\n",
    "from sklearn import svm\n",
    "from sklearn.metrics import recall_score, confusion_matrix\n",
    "from itertools import combinations\n",
    "from math import *\n"
   ]
  },
  {
   "cell_type": "code",
   "execution_count": 2,
   "metadata": {},
   "outputs": [],
   "source": [
    "# cat = ['V_cat','A_cat']\n",
    "classes = ['L', 'M', 'H']\n",
    "devel_V_set = ['BoW','frozen-bert-gmax','frozen-bert-pos-fuse-rnnatt','frozen-bert-rnnatt','fused','NGD_TF_IDF_1500','PMI_without_log_method_1500','TF-IDF']\n",
    "devel_A_set = ['BoW','frozen-bert-gmax','frozen-bert-pos-fuse-rnnatt','frozen-bert-rnnatt','fused','NGD_with_log_method_1200','PMI_without_log_method_1800','TF-IDF']\n",
    "df = pd.read_csv('transcripted_text.st1_st2_st3.all.csv')\n",
    "df_devel = df[df['partition'].isin([\"devel\"])]\n",
    "V_list = df_devel['V_cat'].values.tolist()\n",
    "A_list = df_devel['A_cat'].values.tolist()"
   ]
  },
  {
   "cell_type": "code",
   "execution_count": 3,
   "metadata": {},
   "outputs": [],
   "source": [
    "def ArithmeticMean(data):\n",
    "    len_d = float(len(data))\n",
    "    result = sum(data) / len_d\n",
    "    return result\n",
    "\n",
    "def GeometricMean(data):\n",
    "    len_d = len(data)\n",
    "    product = 1.0\n",
    "    for i in range(len_d):\n",
    "        product = product * data[i]\n",
    "    # the next line is equal to calculate the n-root\n",
    "    result = product ** (1.0/len_d)\n",
    "    return result\n",
    "\n",
    "def HarmonicMean(data):\n",
    "    len_d = len(data)\n",
    "    x = [1.0/data[i] for i in range(len_d)]\n",
    "    result = float(len_d) / sum(x)\n",
    "    return result\n",
    "\n",
    "def QuadraticMean(data):\n",
    "    len_d = len(data)\n",
    "    x = [data[i] * data[i] for i in range(len_d)]\n",
    "    result = sqrt(sum(x) / float(len_d))\n",
    "    return result"
   ]
  },
  {
   "cell_type": "code",
   "execution_count": 4,
   "metadata": {},
   "outputs": [
    {
     "name": "stdout",
     "output_type": "stream",
     "text": [
      "V_cat\n",
      "([('TF-IDF',), ('BoW', 'PMI_without_log_method_1500'), ('BoW', 'TF-IDF'), ('PMI_without_log_method_1500', 'TF-IDF'), ('BoW', 'frozen-bert-gmax', 'frozen-bert-pos-fuse-rnnatt'), ('BoW', 'NGD_TF_IDF_1500', 'PMI_without_log_method_1500'), ('BoW', 'NGD_TF_IDF_1500', 'TF-IDF'), ('BoW', 'PMI_without_log_method_1500', 'TF-IDF'), ('frozen-bert-gmax', 'frozen-bert-pos-fuse-rnnatt', 'frozen-bert-rnnatt'), ('frozen-bert-gmax', 'frozen-bert-pos-fuse-rnnatt', 'fused'), ('frozen-bert-gmax', 'frozen-bert-pos-fuse-rnnatt', 'PMI_without_log_method_1500'), ('fused', 'PMI_without_log_method_1500', 'TF-IDF'), ('NGD_TF_IDF_1500', 'PMI_without_log_method_1500', 'TF-IDF'), ('BoW', 'frozen-bert-gmax', 'frozen-bert-pos-fuse-rnnatt', 'frozen-bert-rnnatt'), ('BoW', 'frozen-bert-gmax', 'frozen-bert-pos-fuse-rnnatt', 'fused'), ('BoW', 'frozen-bert-gmax', 'frozen-bert-pos-fuse-rnnatt', 'PMI_without_log_method_1500'), ('BoW', 'frozen-bert-gmax', 'frozen-bert-pos-fuse-rnnatt', 'TF-IDF'), ('BoW', 'frozen-bert-pos-fuse-rnnatt', 'PMI_without_log_method_1500', 'TF-IDF'), ('BoW', 'frozen-bert-rnnatt', 'fused', 'NGD_TF_IDF_1500'), ('BoW', 'frozen-bert-rnnatt', 'fused', 'PMI_without_log_method_1500'), ('BoW', 'frozen-bert-rnnatt', 'fused', 'TF-IDF'), ('BoW', 'frozen-bert-rnnatt', 'NGD_TF_IDF_1500', 'PMI_without_log_method_1500'), ('BoW', 'frozen-bert-rnnatt', 'NGD_TF_IDF_1500', 'TF-IDF'), ('BoW', 'frozen-bert-rnnatt', 'PMI_without_log_method_1500', 'TF-IDF'), ('BoW', 'fused', 'NGD_TF_IDF_1500', 'PMI_without_log_method_1500'), ('BoW', 'fused', 'NGD_TF_IDF_1500', 'TF-IDF'), ('BoW', 'fused', 'PMI_without_log_method_1500', 'TF-IDF'), ('BoW', 'NGD_TF_IDF_1500', 'PMI_without_log_method_1500', 'TF-IDF'), ('frozen-bert-gmax', 'frozen-bert-pos-fuse-rnnatt', 'frozen-bert-rnnatt', 'fused'), ('frozen-bert-gmax', 'frozen-bert-pos-fuse-rnnatt', 'frozen-bert-rnnatt', 'NGD_TF_IDF_1500'), ('frozen-bert-gmax', 'frozen-bert-pos-fuse-rnnatt', 'frozen-bert-rnnatt', 'PMI_without_log_method_1500'), ('frozen-bert-gmax', 'frozen-bert-pos-fuse-rnnatt', 'frozen-bert-rnnatt', 'TF-IDF'), ('frozen-bert-gmax', 'frozen-bert-pos-fuse-rnnatt', 'fused', 'NGD_TF_IDF_1500'), ('frozen-bert-gmax', 'frozen-bert-pos-fuse-rnnatt', 'fused', 'PMI_without_log_method_1500'), ('frozen-bert-gmax', 'frozen-bert-pos-fuse-rnnatt', 'fused', 'TF-IDF'), ('frozen-bert-gmax', 'frozen-bert-pos-fuse-rnnatt', 'NGD_TF_IDF_1500', 'PMI_without_log_method_1500'), ('frozen-bert-gmax', 'frozen-bert-pos-fuse-rnnatt', 'NGD_TF_IDF_1500', 'TF-IDF'), ('frozen-bert-gmax', 'frozen-bert-pos-fuse-rnnatt', 'PMI_without_log_method_1500', 'TF-IDF'), ('frozen-bert-gmax', 'frozen-bert-rnnatt', 'fused', 'NGD_TF_IDF_1500'), ('frozen-bert-gmax', 'frozen-bert-rnnatt', 'fused', 'PMI_without_log_method_1500'), ('frozen-bert-gmax', 'frozen-bert-rnnatt', 'NGD_TF_IDF_1500', 'PMI_without_log_method_1500'), ('frozen-bert-gmax', 'frozen-bert-rnnatt', 'NGD_TF_IDF_1500', 'TF-IDF'), ('frozen-bert-gmax', 'frozen-bert-rnnatt', 'PMI_without_log_method_1500', 'TF-IDF'), ('frozen-bert-gmax', 'fused', 'NGD_TF_IDF_1500', 'PMI_without_log_method_1500'), ('frozen-bert-gmax', 'fused', 'NGD_TF_IDF_1500', 'TF-IDF'), ('frozen-bert-gmax', 'fused', 'PMI_without_log_method_1500', 'TF-IDF'), ('frozen-bert-gmax', 'NGD_TF_IDF_1500', 'PMI_without_log_method_1500', 'TF-IDF'), ('frozen-bert-pos-fuse-rnnatt', 'frozen-bert-rnnatt', 'fused', 'NGD_TF_IDF_1500'), ('frozen-bert-pos-fuse-rnnatt', 'frozen-bert-rnnatt', 'fused', 'PMI_without_log_method_1500'), ('frozen-bert-pos-fuse-rnnatt', 'frozen-bert-rnnatt', 'fused', 'TF-IDF'), ('frozen-bert-pos-fuse-rnnatt', 'frozen-bert-rnnatt', 'NGD_TF_IDF_1500', 'PMI_without_log_method_1500'), ('frozen-bert-pos-fuse-rnnatt', 'frozen-bert-rnnatt', 'NGD_TF_IDF_1500', 'TF-IDF'), ('frozen-bert-pos-fuse-rnnatt', 'frozen-bert-rnnatt', 'PMI_without_log_method_1500', 'TF-IDF'), ('frozen-bert-pos-fuse-rnnatt', 'fused', 'NGD_TF_IDF_1500', 'PMI_without_log_method_1500'), ('frozen-bert-pos-fuse-rnnatt', 'fused', 'NGD_TF_IDF_1500', 'TF-IDF'), ('frozen-bert-pos-fuse-rnnatt', 'fused', 'PMI_without_log_method_1500', 'TF-IDF'), ('frozen-bert-pos-fuse-rnnatt', 'NGD_TF_IDF_1500', 'PMI_without_log_method_1500', 'TF-IDF'), ('frozen-bert-rnnatt', 'fused', 'NGD_TF_IDF_1500', 'PMI_without_log_method_1500'), ('frozen-bert-rnnatt', 'fused', 'NGD_TF_IDF_1500', 'TF-IDF'), ('frozen-bert-rnnatt', 'fused', 'PMI_without_log_method_1500', 'TF-IDF'), ('frozen-bert-rnnatt', 'NGD_TF_IDF_1500', 'PMI_without_log_method_1500', 'TF-IDF'), ('fused', 'NGD_TF_IDF_1500', 'PMI_without_log_method_1500', 'TF-IDF'), ('BoW', 'frozen-bert-gmax', 'frozen-bert-pos-fuse-rnnatt', 'frozen-bert-rnnatt', 'fused'), ('BoW', 'frozen-bert-gmax', 'frozen-bert-pos-fuse-rnnatt', 'frozen-bert-rnnatt', 'NGD_TF_IDF_1500'), ('BoW', 'frozen-bert-gmax', 'frozen-bert-pos-fuse-rnnatt', 'frozen-bert-rnnatt', 'PMI_without_log_method_1500'), ('BoW', 'frozen-bert-gmax', 'frozen-bert-pos-fuse-rnnatt', 'frozen-bert-rnnatt', 'TF-IDF'), ('BoW', 'frozen-bert-gmax', 'frozen-bert-pos-fuse-rnnatt', 'fused', 'NGD_TF_IDF_1500'), ('BoW', 'frozen-bert-gmax', 'frozen-bert-pos-fuse-rnnatt', 'fused', 'PMI_without_log_method_1500'), ('BoW', 'frozen-bert-gmax', 'frozen-bert-pos-fuse-rnnatt', 'fused', 'TF-IDF'), ('BoW', 'frozen-bert-gmax', 'frozen-bert-pos-fuse-rnnatt', 'NGD_TF_IDF_1500', 'PMI_without_log_method_1500'), ('BoW', 'frozen-bert-gmax', 'frozen-bert-pos-fuse-rnnatt', 'NGD_TF_IDF_1500', 'TF-IDF'), ('BoW', 'frozen-bert-gmax', 'frozen-bert-pos-fuse-rnnatt', 'PMI_without_log_method_1500', 'TF-IDF'), ('BoW', 'frozen-bert-gmax', 'frozen-bert-rnnatt', 'fused', 'NGD_TF_IDF_1500'), ('BoW', 'frozen-bert-gmax', 'frozen-bert-rnnatt', 'fused', 'PMI_without_log_method_1500'), ('BoW', 'frozen-bert-gmax', 'frozen-bert-rnnatt', 'fused', 'TF-IDF'), ('BoW', 'frozen-bert-gmax', 'frozen-bert-rnnatt', 'NGD_TF_IDF_1500', 'PMI_without_log_method_1500'), ('BoW', 'frozen-bert-gmax', 'frozen-bert-rnnatt', 'NGD_TF_IDF_1500', 'TF-IDF'), ('BoW', 'frozen-bert-gmax', 'frozen-bert-rnnatt', 'PMI_without_log_method_1500', 'TF-IDF'), ('BoW', 'frozen-bert-gmax', 'fused', 'NGD_TF_IDF_1500', 'PMI_without_log_method_1500'), ('BoW', 'frozen-bert-gmax', 'fused', 'NGD_TF_IDF_1500', 'TF-IDF'), ('BoW', 'frozen-bert-gmax', 'fused', 'PMI_without_log_method_1500', 'TF-IDF'), ('BoW', 'frozen-bert-gmax', 'NGD_TF_IDF_1500', 'PMI_without_log_method_1500', 'TF-IDF'), ('BoW', 'frozen-bert-pos-fuse-rnnatt', 'frozen-bert-rnnatt', 'fused', 'NGD_TF_IDF_1500'), ('BoW', 'frozen-bert-pos-fuse-rnnatt', 'frozen-bert-rnnatt', 'fused', 'PMI_without_log_method_1500'), ('BoW', 'frozen-bert-pos-fuse-rnnatt', 'frozen-bert-rnnatt', 'fused', 'TF-IDF'), ('BoW', 'frozen-bert-pos-fuse-rnnatt', 'frozen-bert-rnnatt', 'NGD_TF_IDF_1500', 'PMI_without_log_method_1500'), ('BoW', 'frozen-bert-pos-fuse-rnnatt', 'frozen-bert-rnnatt', 'NGD_TF_IDF_1500', 'TF-IDF'), ('BoW', 'frozen-bert-pos-fuse-rnnatt', 'frozen-bert-rnnatt', 'PMI_without_log_method_1500', 'TF-IDF'), ('BoW', 'frozen-bert-pos-fuse-rnnatt', 'fused', 'NGD_TF_IDF_1500', 'PMI_without_log_method_1500'), ('BoW', 'frozen-bert-pos-fuse-rnnatt', 'fused', 'NGD_TF_IDF_1500', 'TF-IDF'), ('BoW', 'frozen-bert-pos-fuse-rnnatt', 'fused', 'PMI_without_log_method_1500', 'TF-IDF'), ('BoW', 'frozen-bert-pos-fuse-rnnatt', 'NGD_TF_IDF_1500', 'PMI_without_log_method_1500', 'TF-IDF'), ('BoW', 'frozen-bert-rnnatt', 'fused', 'NGD_TF_IDF_1500', 'PMI_without_log_method_1500'), ('BoW', 'frozen-bert-rnnatt', 'fused', 'NGD_TF_IDF_1500', 'TF-IDF'), ('BoW', 'frozen-bert-rnnatt', 'fused', 'PMI_without_log_method_1500', 'TF-IDF'), ('BoW', 'frozen-bert-rnnatt', 'NGD_TF_IDF_1500', 'PMI_without_log_method_1500', 'TF-IDF'), ('BoW', 'fused', 'NGD_TF_IDF_1500', 'PMI_without_log_method_1500', 'TF-IDF'), ('frozen-bert-gmax', 'frozen-bert-pos-fuse-rnnatt', 'frozen-bert-rnnatt', 'fused', 'NGD_TF_IDF_1500'), ('frozen-bert-gmax', 'frozen-bert-pos-fuse-rnnatt', 'frozen-bert-rnnatt', 'fused', 'PMI_without_log_method_1500'), ('frozen-bert-gmax', 'frozen-bert-pos-fuse-rnnatt', 'frozen-bert-rnnatt', 'fused', 'TF-IDF'), ('frozen-bert-gmax', 'frozen-bert-pos-fuse-rnnatt', 'frozen-bert-rnnatt', 'NGD_TF_IDF_1500', 'PMI_without_log_method_1500'), ('frozen-bert-gmax', 'frozen-bert-pos-fuse-rnnatt', 'frozen-bert-rnnatt', 'NGD_TF_IDF_1500', 'TF-IDF'), ('frozen-bert-gmax', 'frozen-bert-pos-fuse-rnnatt', 'frozen-bert-rnnatt', 'PMI_without_log_method_1500', 'TF-IDF'), ('frozen-bert-gmax', 'frozen-bert-pos-fuse-rnnatt', 'fused', 'NGD_TF_IDF_1500', 'PMI_without_log_method_1500'), ('frozen-bert-gmax', 'frozen-bert-pos-fuse-rnnatt', 'fused', 'NGD_TF_IDF_1500', 'TF-IDF'), ('frozen-bert-gmax', 'frozen-bert-pos-fuse-rnnatt', 'fused', 'PMI_without_log_method_1500', 'TF-IDF'), ('frozen-bert-gmax', 'frozen-bert-pos-fuse-rnnatt', 'NGD_TF_IDF_1500', 'PMI_without_log_method_1500', 'TF-IDF'), ('frozen-bert-gmax', 'frozen-bert-rnnatt', 'fused', 'NGD_TF_IDF_1500', 'PMI_without_log_method_1500'), ('frozen-bert-gmax', 'frozen-bert-rnnatt', 'fused', 'NGD_TF_IDF_1500', 'TF-IDF'), ('frozen-bert-gmax', 'frozen-bert-rnnatt', 'fused', 'PMI_without_log_method_1500', 'TF-IDF'), ('frozen-bert-gmax', 'frozen-bert-rnnatt', 'NGD_TF_IDF_1500', 'PMI_without_log_method_1500', 'TF-IDF'), ('frozen-bert-gmax', 'fused', 'NGD_TF_IDF_1500', 'PMI_without_log_method_1500', 'TF-IDF'), ('frozen-bert-pos-fuse-rnnatt', 'frozen-bert-rnnatt', 'fused', 'NGD_TF_IDF_1500', 'PMI_without_log_method_1500'), ('frozen-bert-pos-fuse-rnnatt', 'frozen-bert-rnnatt', 'fused', 'NGD_TF_IDF_1500', 'TF-IDF'), ('frozen-bert-pos-fuse-rnnatt', 'frozen-bert-rnnatt', 'fused', 'PMI_without_log_method_1500', 'TF-IDF'), ('frozen-bert-pos-fuse-rnnatt', 'frozen-bert-rnnatt', 'NGD_TF_IDF_1500', 'PMI_without_log_method_1500', 'TF-IDF'), ('frozen-bert-pos-fuse-rnnatt', 'fused', 'NGD_TF_IDF_1500', 'PMI_without_log_method_1500', 'TF-IDF'), ('frozen-bert-rnnatt', 'fused', 'NGD_TF_IDF_1500', 'PMI_without_log_method_1500', 'TF-IDF'), ('BoW', 'frozen-bert-gmax', 'frozen-bert-pos-fuse-rnnatt', 'frozen-bert-rnnatt', 'fused', 'NGD_TF_IDF_1500'), ('BoW', 'frozen-bert-gmax', 'frozen-bert-pos-fuse-rnnatt', 'frozen-bert-rnnatt', 'fused', 'PMI_without_log_method_1500'), ('BoW', 'frozen-bert-gmax', 'frozen-bert-pos-fuse-rnnatt', 'frozen-bert-rnnatt', 'fused', 'TF-IDF'), ('BoW', 'frozen-bert-gmax', 'frozen-bert-pos-fuse-rnnatt', 'frozen-bert-rnnatt', 'NGD_TF_IDF_1500', 'PMI_without_log_method_1500'), ('BoW', 'frozen-bert-gmax', 'frozen-bert-pos-fuse-rnnatt', 'frozen-bert-rnnatt', 'NGD_TF_IDF_1500', 'TF-IDF'), ('BoW', 'frozen-bert-gmax', 'frozen-bert-pos-fuse-rnnatt', 'frozen-bert-rnnatt', 'PMI_without_log_method_1500', 'TF-IDF'), ('BoW', 'frozen-bert-gmax', 'frozen-bert-pos-fuse-rnnatt', 'fused', 'NGD_TF_IDF_1500', 'PMI_without_log_method_1500'), ('BoW', 'frozen-bert-gmax', 'frozen-bert-pos-fuse-rnnatt', 'fused', 'NGD_TF_IDF_1500', 'TF-IDF'), ('BoW', 'frozen-bert-gmax', 'frozen-bert-pos-fuse-rnnatt', 'fused', 'PMI_without_log_method_1500', 'TF-IDF'), ('BoW', 'frozen-bert-gmax', 'frozen-bert-pos-fuse-rnnatt', 'NGD_TF_IDF_1500', 'PMI_without_log_method_1500', 'TF-IDF'), ('BoW', 'frozen-bert-gmax', 'frozen-bert-rnnatt', 'fused', 'NGD_TF_IDF_1500', 'PMI_without_log_method_1500'), ('BoW', 'frozen-bert-gmax', 'frozen-bert-rnnatt', 'fused', 'NGD_TF_IDF_1500', 'TF-IDF'), ('BoW', 'frozen-bert-gmax', 'frozen-bert-rnnatt', 'fused', 'PMI_without_log_method_1500', 'TF-IDF'), ('BoW', 'frozen-bert-gmax', 'frozen-bert-rnnatt', 'NGD_TF_IDF_1500', 'PMI_without_log_method_1500', 'TF-IDF'), ('BoW', 'frozen-bert-gmax', 'fused', 'NGD_TF_IDF_1500', 'PMI_without_log_method_1500', 'TF-IDF'), ('BoW', 'frozen-bert-pos-fuse-rnnatt', 'frozen-bert-rnnatt', 'fused', 'NGD_TF_IDF_1500', 'PMI_without_log_method_1500'), ('BoW', 'frozen-bert-pos-fuse-rnnatt', 'frozen-bert-rnnatt', 'fused', 'NGD_TF_IDF_1500', 'TF-IDF'), ('BoW', 'frozen-bert-pos-fuse-rnnatt', 'frozen-bert-rnnatt', 'fused', 'PMI_without_log_method_1500', 'TF-IDF'), ('BoW', 'frozen-bert-pos-fuse-rnnatt', 'frozen-bert-rnnatt', 'NGD_TF_IDF_1500', 'PMI_without_log_method_1500', 'TF-IDF'), ('BoW', 'frozen-bert-pos-fuse-rnnatt', 'fused', 'NGD_TF_IDF_1500', 'PMI_without_log_method_1500', 'TF-IDF'), ('BoW', 'frozen-bert-rnnatt', 'fused', 'NGD_TF_IDF_1500', 'PMI_without_log_method_1500', 'TF-IDF'), ('frozen-bert-gmax', 'frozen-bert-pos-fuse-rnnatt', 'frozen-bert-rnnatt', 'fused', 'NGD_TF_IDF_1500', 'PMI_without_log_method_1500'), ('frozen-bert-gmax', 'frozen-bert-pos-fuse-rnnatt', 'frozen-bert-rnnatt', 'fused', 'NGD_TF_IDF_1500', 'TF-IDF'), ('frozen-bert-gmax', 'frozen-bert-pos-fuse-rnnatt', 'frozen-bert-rnnatt', 'fused', 'PMI_without_log_method_1500', 'TF-IDF'), ('frozen-bert-gmax', 'frozen-bert-pos-fuse-rnnatt', 'frozen-bert-rnnatt', 'NGD_TF_IDF_1500', 'PMI_without_log_method_1500', 'TF-IDF'), ('frozen-bert-gmax', 'frozen-bert-pos-fuse-rnnatt', 'fused', 'NGD_TF_IDF_1500', 'PMI_without_log_method_1500', 'TF-IDF'), ('frozen-bert-gmax', 'frozen-bert-rnnatt', 'fused', 'NGD_TF_IDF_1500', 'PMI_without_log_method_1500', 'TF-IDF'), ('frozen-bert-pos-fuse-rnnatt', 'frozen-bert-rnnatt', 'fused', 'NGD_TF_IDF_1500', 'PMI_without_log_method_1500', 'TF-IDF'), ('BoW', 'frozen-bert-gmax', 'frozen-bert-pos-fuse-rnnatt', 'frozen-bert-rnnatt', 'fused', 'NGD_TF_IDF_1500', 'PMI_without_log_method_1500'), ('BoW', 'frozen-bert-gmax', 'frozen-bert-pos-fuse-rnnatt', 'frozen-bert-rnnatt', 'fused', 'NGD_TF_IDF_1500', 'TF-IDF'), ('BoW', 'frozen-bert-gmax', 'frozen-bert-pos-fuse-rnnatt', 'frozen-bert-rnnatt', 'fused', 'PMI_without_log_method_1500', 'TF-IDF'), ('BoW', 'frozen-bert-gmax', 'frozen-bert-pos-fuse-rnnatt', 'frozen-bert-rnnatt', 'NGD_TF_IDF_1500', 'PMI_without_log_method_1500', 'TF-IDF'), ('BoW', 'frozen-bert-gmax', 'frozen-bert-pos-fuse-rnnatt', 'fused', 'NGD_TF_IDF_1500', 'PMI_without_log_method_1500', 'TF-IDF'), ('BoW', 'frozen-bert-gmax', 'frozen-bert-rnnatt', 'fused', 'NGD_TF_IDF_1500', 'PMI_without_log_method_1500', 'TF-IDF'), ('BoW', 'frozen-bert-pos-fuse-rnnatt', 'frozen-bert-rnnatt', 'fused', 'NGD_TF_IDF_1500', 'PMI_without_log_method_1500', 'TF-IDF'), ('frozen-bert-gmax', 'frozen-bert-pos-fuse-rnnatt', 'frozen-bert-rnnatt', 'fused', 'NGD_TF_IDF_1500', 'PMI_without_log_method_1500', 'TF-IDF')], 62.142857142857146)\n",
      "A_cat\n"
     ]
    },
    {
     "name": "stdout",
     "output_type": "stream",
     "text": [
      "([('frozen-bert-pos-fuse-rnnatt', 'NGD_with_log_method_1200', 'PMI_without_log_method_1800'), ('frozen-bert-pos-fuse-rnnatt', 'NGD_with_log_method_1200', 'TF-IDF'), ('frozen-bert-pos-fuse-rnnatt', 'PMI_without_log_method_1800', 'TF-IDF'), ('frozen-bert-rnnatt', 'fused', 'NGD_with_log_method_1200'), ('frozen-bert-rnnatt', 'fused', 'PMI_without_log_method_1800'), ('frozen-bert-rnnatt', 'fused', 'TF-IDF'), ('frozen-bert-rnnatt', 'NGD_with_log_method_1200', 'PMI_without_log_method_1800'), ('frozen-bert-rnnatt', 'NGD_with_log_method_1200', 'TF-IDF'), ('frozen-bert-rnnatt', 'PMI_without_log_method_1800', 'TF-IDF'), ('fused', 'NGD_with_log_method_1200', 'PMI_without_log_method_1800'), ('fused', 'NGD_with_log_method_1200', 'TF-IDF'), ('fused', 'PMI_without_log_method_1800', 'TF-IDF'), ('NGD_with_log_method_1200', 'PMI_without_log_method_1800', 'TF-IDF'), ('BoW', 'frozen-bert-gmax', 'frozen-bert-pos-fuse-rnnatt', 'frozen-bert-rnnatt'), ('BoW', 'frozen-bert-gmax', 'frozen-bert-pos-fuse-rnnatt', 'fused'), ('BoW', 'frozen-bert-gmax', 'frozen-bert-pos-fuse-rnnatt', 'NGD_with_log_method_1200'), ('BoW', 'frozen-bert-gmax', 'frozen-bert-pos-fuse-rnnatt', 'PMI_without_log_method_1800'), ('BoW', 'frozen-bert-gmax', 'frozen-bert-pos-fuse-rnnatt', 'TF-IDF'), ('BoW', 'frozen-bert-gmax', 'frozen-bert-rnnatt', 'fused'), ('BoW', 'frozen-bert-gmax', 'frozen-bert-rnnatt', 'NGD_with_log_method_1200'), ('BoW', 'frozen-bert-gmax', 'frozen-bert-rnnatt', 'PMI_without_log_method_1800'), ('BoW', 'frozen-bert-gmax', 'frozen-bert-rnnatt', 'TF-IDF'), ('BoW', 'frozen-bert-gmax', 'fused', 'NGD_with_log_method_1200'), ('BoW', 'frozen-bert-gmax', 'fused', 'PMI_without_log_method_1800'), ('BoW', 'frozen-bert-gmax', 'fused', 'TF-IDF'), ('BoW', 'frozen-bert-gmax', 'NGD_with_log_method_1200', 'PMI_without_log_method_1800'), ('BoW', 'frozen-bert-gmax', 'NGD_with_log_method_1200', 'TF-IDF'), ('BoW', 'frozen-bert-gmax', 'PMI_without_log_method_1800', 'TF-IDF')], 48.60818713450292)\n"
     ]
    }
   ],
   "source": [
    "def readcsv(feature,cat):\n",
    "    df = pd.read_csv(cat+'_mean/'+feature + '.csv')\n",
    "    df_list = df.values.tolist()\n",
    "    return df_list\n",
    "\n",
    "\n",
    "prediction_list_L = []\n",
    "prediction_list_M = []\n",
    "prediction_list_H = []\n",
    "def fusion(input_set):\n",
    "    result_dict = dict()\n",
    "#     result_dict_A = dict()\n",
    "    if input_set == devel_V_set:\n",
    "        cat = 'V_cat'\n",
    "        test_list = V_list\n",
    "    else:\n",
    "        cat = 'A_cat'\n",
    "        test_list = A_list\n",
    "    print(cat)\n",
    "    for num in range(1,len(input_set)):\n",
    "        new_list = list(combinations(input_set,num))\n",
    "        for sets in new_list:\n",
    "            for prediction in sets:\n",
    "                vote_list = readcsv(prediction,cat)\n",
    "                pred_L = [i[1] for i in vote_list]\n",
    "                pred_M = [i[2] for i in vote_list]\n",
    "                pred_H = [i[3] for i in vote_list]\n",
    "                prediction_list_L.append(pred_L)\n",
    "                prediction_list_M.append(pred_M)\n",
    "                prediction_list_H.append(pred_H)\n",
    "            new_prediction = []\n",
    "            for index in range(0,87):\n",
    "                single_pred_list_L = []\n",
    "                single_pred_list_M = []\n",
    "                single_pred_list_H = []\n",
    "                for prediction in prediction_list_L:\n",
    "                    single_pred_list_L.append(prediction[index])\n",
    "                for prediction in prediction_list_M:\n",
    "                    single_pred_list_M.append(prediction[index])\n",
    "                for prediction in prediction_list_H:\n",
    "                    single_pred_list_H.append(prediction[index])\n",
    "                mean_list =[ArithmeticMean(single_pred_list_L),ArithmeticMean(single_pred_list_M),ArithmeticMean(single_pred_list_H)]\n",
    "                label = mean_list.index(max(mean_list))\n",
    "                if label == 0:\n",
    "                    new_prediction.append('L')\n",
    "                if label == 1:\n",
    "                    new_prediction.append('M')\n",
    "                if label == 2:\n",
    "                    new_prediction.append('H')\n",
    "                    \n",
    "#             print(new_prediction)\n",
    "            r = recall_score(test_list, new_prediction,labels=classes, average='macro')*100\n",
    "            result_dict[sets] = r\n",
    "    max_list = []\n",
    "    max_value = max(result_dict.values())  # 利用 max 函数先找到最大 value\n",
    "    for m, n in result_dict.items():       # 遍历字典一遍找对应的 key 值\n",
    "        if n == max_value:\n",
    "            max_list.append(m)\n",
    "#     print(max_list)\n",
    "    return max_list, max_value\n",
    "\n",
    "\n",
    "print(fusion(devel_V_set))\n",
    "print(fusion(devel_A_set))"
   ]
  }
 ],
 "metadata": {
  "kernelspec": {
   "display_name": "Python 3.7.4 64-bit",
   "language": "python",
   "name": "python37464bit7beda4881a574057a8d5b1842b8d0b04"
  },
  "language_info": {
   "codemirror_mode": {
    "name": "ipython",
    "version": 3
   },
   "file_extension": ".py",
   "mimetype": "text/x-python",
   "name": "python",
   "nbconvert_exporter": "python",
   "pygments_lexer": "ipython3",
   "version": "3.7.6"
  }
 },
 "nbformat": 4,
 "nbformat_minor": 4
}
